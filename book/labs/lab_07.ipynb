{
 "cells": [
  {
   "cell_type": "markdown",
   "metadata": {},
   "source": [
    "# Lab 7\n",
    "\n",
    "**Submission instructions**\n",
    "\n",
    "Submit the Colab link to your notebook in Canvas. In addition, take screenshots of the map for each question and submit them to Canvas as well."
   ]
  },
  {
   "cell_type": "code",
   "execution_count": 1,
   "metadata": {},
   "outputs": [],
   "source": [
    "import ee\n",
    "import geemap"
   ]
  },
  {
   "cell_type": "code",
   "execution_count": 2,
   "metadata": {},
   "outputs": [
    {
     "data": {
      "text/html": [
       "\n",
       "            <style>\n",
       "                .geemap-dark {\n",
       "                    --jp-widgets-color: white;\n",
       "                    --jp-widgets-label-color: white;\n",
       "                    --jp-ui-font-color1: white;\n",
       "                    --jp-layout-color2: #454545;\n",
       "                    background-color: #383838;\n",
       "                }\n",
       "                    \n",
       "                .geemap-dark .jupyter-button {\n",
       "                    --jp-layout-color3: #383838;\n",
       "                }\n",
       "                \n",
       "                .geemap-colab {\n",
       "                    background-color: var(--colab-primary-surface-color, white);\n",
       "                }\n",
       "                    \n",
       "                .geemap-colab .jupyter-button {\n",
       "                    --jp-layout-color3: var(--colab-primary-surface-color, white);\n",
       "                }\n",
       "            </style>\n",
       "            "
      ],
      "text/plain": [
       "<IPython.core.display.HTML object>"
      ]
     },
     "metadata": {},
     "output_type": "display_data"
    }
   ],
   "source": [
    "geemap.ee_initialize()"
   ]
  },
  {
   "cell_type": "markdown",
   "metadata": {},
   "source": [
    "## Datasets\n",
    "\n",
    "The datasets being used in the lab are listed below:\n",
    "\n",
    "- [TIGER: US Census Counties](https://developers.google.com/earth-engine/datasets/catalog/TIGER_2018_Counties)\n",
    "- [Landsat-9](https://developers.google.com/earth-engine/datasets/catalog/LANDSAT_LC09_C02_T1_L2)\n",
    "- [Sentinel-2](https://developers.google.com/earth-engine/datasets/catalog/COPERNICUS_S2_SR)\n",
    "- [NAIP](https://developers.google.com/earth-engine/datasets/catalog/USDA_NAIP_DOQQ)"
   ]
  },
  {
   "cell_type": "markdown",
   "metadata": {
    "tags": []
   },
   "source": [
    "## Question 1\n",
    "\n",
    "Create a fishnet with a 4-degree interval based on the extent of `[-112.5439, 34.0891, -85.0342, 49.6858]`. Use the fishnet to download the Landsat 7 image tiles by the fishnet using the `geemap.download_ee_image_tiles()` function. Relevant Earth Engine assets:\n",
    "\n",
    "-   `ee.Image('LANDSAT/LE7_TOA_5YEAR/1999_2003')`\n",
    "\n",
    "![](https://i.imgur.com/L1IH3fq.png)"
   ]
  },
  {
   "cell_type": "markdown",
   "id": "9a430fcf",
   "metadata": {},
   "source": [
    "Ilse:\n",
    "\n",
    "The 5 year composite selects a subset of images, converts to top of atomsphere (TOA) reflectance, applies a simple cloud score and takes the median of the least cloudy pixels [Source](https://developers.google.com/earth-engine/guides/landsat#simple-composite)."
   ]
  },
  {
   "cell_type": "code",
   "execution_count": 13,
   "metadata": {},
   "outputs": [
    {
     "data": {
      "text/html": [
       "\n",
       "            <style>\n",
       "                .geemap-dark {\n",
       "                    --jp-widgets-color: white;\n",
       "                    --jp-widgets-label-color: white;\n",
       "                    --jp-ui-font-color1: white;\n",
       "                    --jp-layout-color2: #454545;\n",
       "                    background-color: #383838;\n",
       "                }\n",
       "                    \n",
       "                .geemap-dark .jupyter-button {\n",
       "                    --jp-layout-color3: #383838;\n",
       "                }\n",
       "                \n",
       "                .geemap-colab {\n",
       "                    background-color: var(--colab-primary-surface-color, white);\n",
       "                }\n",
       "                    \n",
       "                .geemap-colab .jupyter-button {\n",
       "                    --jp-layout-color3: var(--colab-primary-surface-color, white);\n",
       "                }\n",
       "            </style>\n",
       "            "
      ],
      "text/plain": [
       "<IPython.core.display.HTML object>"
      ]
     },
     "metadata": {},
     "output_type": "display_data"
    }
   ],
   "source": [
    "# Date not specified so downloading first cloud-free image\n",
    "image = ee.Image('LANDSAT/LE7_TOA_5YEAR/1999_2003')\n",
    "bbox = (-112.5439, 34.0891, -85.0342, 49.6858)\n",
    "#image.getInfo() # comfirming result is a single image"
   ]
  },
  {
   "cell_type": "code",
   "execution_count": 18,
   "id": "13999a43",
   "metadata": {},
   "outputs": [
    {
     "data": {
      "text/html": [
       "\n",
       "            <style>\n",
       "                .geemap-dark {\n",
       "                    --jp-widgets-color: white;\n",
       "                    --jp-widgets-label-color: white;\n",
       "                    --jp-ui-font-color1: white;\n",
       "                    --jp-layout-color2: #454545;\n",
       "                    background-color: #383838;\n",
       "                }\n",
       "                    \n",
       "                .geemap-dark .jupyter-button {\n",
       "                    --jp-layout-color3: #383838;\n",
       "                }\n",
       "                \n",
       "                .geemap-colab {\n",
       "                    background-color: var(--colab-primary-surface-color, white);\n",
       "                }\n",
       "                    \n",
       "                .geemap-colab .jupyter-button {\n",
       "                    --jp-layout-color3: var(--colab-primary-surface-color, white);\n",
       "                }\n",
       "            </style>\n",
       "            "
      ],
      "text/plain": [
       "<IPython.core.display.HTML object>"
      ]
     },
     "metadata": {},
     "output_type": "display_data"
    }
   ],
   "source": [
    "# False color composite for visualization\n",
    "landsat_viz = {\n",
    "    \"bands\": [\"B4\", \"B3\", \"B1\"],\n",
    "    \"gamma\": 2\n",
    "}"
   ]
  },
  {
   "cell_type": "code",
   "execution_count": 15,
   "id": "9034e2df",
   "metadata": {},
   "outputs": [
    {
     "data": {
      "text/html": [
       "\n",
       "            <style>\n",
       "                .geemap-dark {\n",
       "                    --jp-widgets-color: white;\n",
       "                    --jp-widgets-label-color: white;\n",
       "                    --jp-ui-font-color1: white;\n",
       "                    --jp-layout-color2: #454545;\n",
       "                    background-color: #383838;\n",
       "                }\n",
       "                    \n",
       "                .geemap-dark .jupyter-button {\n",
       "                    --jp-layout-color3: #383838;\n",
       "                }\n",
       "                \n",
       "                .geemap-colab {\n",
       "                    background-color: var(--colab-primary-surface-color, white);\n",
       "                }\n",
       "                    \n",
       "                .geemap-colab .jupyter-button {\n",
       "                    --jp-layout-color3: var(--colab-primary-surface-color, white);\n",
       "                }\n",
       "            </style>\n",
       "            "
      ],
      "text/plain": [
       "<IPython.core.display.HTML object>"
      ]
     },
     "metadata": {},
     "output_type": "display_data"
    }
   ],
   "source": [
    "# Create polygon based on extent\n",
    "feat = ee.Geometry.BBox(-112.5439, 34.0891, -85.0342, 49.6858)"
   ]
  },
  {
   "cell_type": "code",
   "execution_count": 36,
   "id": "d7da857f",
   "metadata": {},
   "outputs": [
    {
     "data": {
      "text/html": [
       "\n",
       "            <style>\n",
       "                .geemap-dark {\n",
       "                    --jp-widgets-color: white;\n",
       "                    --jp-widgets-label-color: white;\n",
       "                    --jp-ui-font-color1: white;\n",
       "                    --jp-layout-color2: #454545;\n",
       "                    background-color: #383838;\n",
       "                }\n",
       "                    \n",
       "                .geemap-dark .jupyter-button {\n",
       "                    --jp-layout-color3: #383838;\n",
       "                }\n",
       "                \n",
       "                .geemap-colab {\n",
       "                    background-color: var(--colab-primary-surface-color, white);\n",
       "                }\n",
       "                    \n",
       "                .geemap-colab .jupyter-button {\n",
       "                    --jp-layout-color3: var(--colab-primary-surface-color, white);\n",
       "                }\n",
       "            </style>\n",
       "            "
      ],
      "text/plain": [
       "<IPython.core.display.HTML object>"
      ]
     },
     "metadata": {},
     "output_type": "display_data"
    },
    {
     "data": {
      "text/html": [
       "<div><style>:root {\n",
       "  --font-color-primary: var(--jp-content-font-color0, rgba(0, 0, 0, 1));\n",
       "  --font-color-secondary: var(--jp-content-font-color2, rgba(0, 0, 0, 0.6));\n",
       "  --font-color-accent: rgba(123, 31, 162, 1);\n",
       "  --border-color: var(--jp-border-color2, #e0e0e0);\n",
       "  --background-color: var(--jp-layout-color0, white);\n",
       "  --background-color-row-even: var(--jp-layout-color1, white);\n",
       "  --background-color-row-odd: var(--jp-layout-color2, #eeeeee);\n",
       "}\n",
       "\n",
       "html[theme=\"dark\"],\n",
       "body[data-theme=\"dark\"],\n",
       "body.vscode-dark {\n",
       "  --font-color-primary: rgba(255, 255, 255, 1);\n",
       "  --font-color-secondary: rgba(255, 255, 255, 0.6);\n",
       "  --font-color-accent: rgb(173, 132, 190);\n",
       "  --border-color: #2e2e2e;\n",
       "  --background-color: #111111;\n",
       "  --background-color-row-even: #111111;\n",
       "  --background-color-row-odd: #313131;\n",
       "}\n",
       "\n",
       ".ee {\n",
       "  padding: 1em;\n",
       "  line-height: 1.5em;\n",
       "  min-width: 300px;\n",
       "  max-width: 1200px;\n",
       "  overflow-y: scroll;\n",
       "  max-height: 600px;\n",
       "  border: 1px solid var(--border-color);\n",
       "  font-family: monospace;\n",
       "}\n",
       "\n",
       ".ee li {\n",
       "  list-style-type: none;\n",
       "}\n",
       "\n",
       ".ee ul {\n",
       "  padding-left: 1.5em !important;\n",
       "  margin: 0;\n",
       "}\n",
       "\n",
       ".ee > ul {\n",
       "  padding-left: 0 !important;\n",
       "}\n",
       "\n",
       ".ee-open,\n",
       ".ee-shut {\n",
       "  color: var(--font-color-secondary);\n",
       "  cursor: pointer;\n",
       "  margin: 0;\n",
       "}\n",
       "\n",
       ".ee-open:hover,\n",
       ".ee-shut:hover {\n",
       "  color: var(--font-color-primary);\n",
       "}\n",
       "\n",
       ".ee-k {\n",
       "  color: var(--font-color-accent);\n",
       "  margin-right: 6px;\n",
       "}\n",
       "\n",
       ".ee-v {\n",
       "  color: var(--font-color-primary);\n",
       "}\n",
       "\n",
       ".ee-toggle {\n",
       "  display: none;\n",
       "}\n",
       "\n",
       ".ee-shut + ul {\n",
       "  display: none;\n",
       "}\n",
       "\n",
       ".ee-open + ul {\n",
       "  display: block;\n",
       "}\n",
       "\n",
       ".ee-shut::before {\n",
       "  display: inline-block;\n",
       "  content: \"▼\";\n",
       "  margin-right: 6px;\n",
       "  transform: rotate(-90deg);\n",
       "  transition: transform 0.2s;\n",
       "}\n",
       "\n",
       ".ee-open::before {\n",
       "  transform: rotate(0deg);\n",
       "  display: inline-block;\n",
       "  content: \"▼\";\n",
       "  margin-right: 6px;\n",
       "  transition: transform 0.2s;\n",
       "}\n",
       "</style><div class='ee'><ul><li><label class='ee-shut'>FeatureCollection (28 elements, 5 columns)<input type='checkbox' class='ee-toggle'></label><ul><li><span class='ee-k'>type:</span><span class='ee-v'>FeatureCollection</span></li><li><label class='ee-shut'>columns: Object (5 properties)<input type='checkbox' class='ee-toggle'></label><ul><li><span class='ee-k'>east:</span><span class='ee-v'>Float</span></li><li><span class='ee-k'>north:</span><span class='ee-v'>Float</span></li><li><span class='ee-k'>south:</span><span class='ee-v'>Float</span></li><li><span class='ee-k'>system:index:</span><span class='ee-v'>String</span></li><li><span class='ee-k'>west:</span><span class='ee-v'>Float</span></li></ul></li><li><label class='ee-shut'>features: List (28 elements)<input type='checkbox' class='ee-toggle'></label><ul><li><label class='ee-shut'>0: Feature (Polygon, 4 properties)<input type='checkbox' class='ee-toggle'></label><ul><li><span class='ee-k'>type:</span><span class='ee-v'>Feature</span></li><li><span class='ee-k'>id:</span><span class='ee-v'>0_0</span></li><li><label class='ee-shut'>geometry: Polygon (5 vertices)<input type='checkbox' class='ee-toggle'></label><ul><li><span class='ee-k'>type:</span><span class='ee-v'>Polygon</span></li><li><label class='ee-shut'>coordinates: List (1 element)<input type='checkbox' class='ee-toggle'></label><ul><li><label class='ee-shut'>0: List (5 elements)<input type='checkbox' class='ee-toggle'></label><ul><li><label class='ee-shut'>0: [-112.54390000000001, 34.0891]<input type='checkbox' class='ee-toggle'></label><ul><li><span class='ee-k'>0:</span><span class='ee-v'>-112.54390000000001</span></li><li><span class='ee-k'>1:</span><span class='ee-v'>34.0891</span></li></ul></li><li><label class='ee-shut'>1: [-107.95895, 34.0891]<input type='checkbox' class='ee-toggle'></label><ul><li><span class='ee-k'>0:</span><span class='ee-v'>-107.95895</span></li><li><span class='ee-k'>1:</span><span class='ee-v'>34.0891</span></li></ul></li><li><label class='ee-shut'>2: [-107.95895, 39.288000000000004]<input type='checkbox' class='ee-toggle'></label><ul><li><span class='ee-k'>0:</span><span class='ee-v'>-107.95895</span></li><li><span class='ee-k'>1:</span><span class='ee-v'>39.288000000000004</span></li></ul></li><li><label class='ee-shut'>3: [-112.54390000000001, 39.288000000000004]<input type='checkbox' class='ee-toggle'></label><ul><li><span class='ee-k'>0:</span><span class='ee-v'>-112.54390000000001</span></li><li><span class='ee-k'>1:</span><span class='ee-v'>39.288000000000004</span></li></ul></li><li><label class='ee-shut'>4: [-112.54390000000001, 34.0891]<input type='checkbox' class='ee-toggle'></label><ul><li><span class='ee-k'>0:</span><span class='ee-v'>-112.54390000000001</span></li><li><span class='ee-k'>1:</span><span class='ee-v'>34.0891</span></li></ul></li></ul></li></ul></li><li><span class='ee-k'>geodesic:</span><span class='ee-v'>False</span></li></ul></li><li><label class='ee-shut'>properties: Object (4 properties)<input type='checkbox' class='ee-toggle'></label><ul><li><span class='ee-k'>east:</span><span class='ee-v'>-107.95895</span></li><li><span class='ee-k'>north:</span><span class='ee-v'>39.288000000000004</span></li><li><span class='ee-k'>south:</span><span class='ee-v'>34.0891</span></li><li><span class='ee-k'>west:</span><span class='ee-v'>-112.54390000000001</span></li></ul></li></ul></li><li><label class='ee-shut'>1: Feature (Polygon, 4 properties)<input type='checkbox' class='ee-toggle'></label><ul><li><span class='ee-k'>type:</span><span class='ee-v'>Feature</span></li><li><span class='ee-k'>id:</span><span class='ee-v'>0_1</span></li><li><label class='ee-shut'>geometry: Polygon (5 vertices)<input type='checkbox' class='ee-toggle'></label><ul><li><span class='ee-k'>type:</span><span class='ee-v'>Polygon</span></li><li><label class='ee-shut'>coordinates: List (1 element)<input type='checkbox' class='ee-toggle'></label><ul><li><label class='ee-shut'>0: List (5 elements)<input type='checkbox' class='ee-toggle'></label><ul><li><label class='ee-shut'>0: [-107.95895, 34.0891]<input type='checkbox' class='ee-toggle'></label><ul><li><span class='ee-k'>0:</span><span class='ee-v'>-107.95895</span></li><li><span class='ee-k'>1:</span><span class='ee-v'>34.0891</span></li></ul></li><li><label class='ee-shut'>1: [-103.374, 34.0891]<input type='checkbox' class='ee-toggle'></label><ul><li><span class='ee-k'>0:</span><span class='ee-v'>-103.374</span></li><li><span class='ee-k'>1:</span><span class='ee-v'>34.0891</span></li></ul></li><li><label class='ee-shut'>2: [-103.374, 39.288000000000004]<input type='checkbox' class='ee-toggle'></label><ul><li><span class='ee-k'>0:</span><span class='ee-v'>-103.374</span></li><li><span class='ee-k'>1:</span><span class='ee-v'>39.288000000000004</span></li></ul></li><li><label class='ee-shut'>3: [-107.95895, 39.288000000000004]<input type='checkbox' class='ee-toggle'></label><ul><li><span class='ee-k'>0:</span><span class='ee-v'>-107.95895</span></li><li><span class='ee-k'>1:</span><span class='ee-v'>39.288000000000004</span></li></ul></li><li><label class='ee-shut'>4: [-107.95895, 34.0891]<input type='checkbox' class='ee-toggle'></label><ul><li><span class='ee-k'>0:</span><span class='ee-v'>-107.95895</span></li><li><span class='ee-k'>1:</span><span class='ee-v'>34.0891</span></li></ul></li></ul></li></ul></li><li><span class='ee-k'>geodesic:</span><span class='ee-v'>False</span></li></ul></li><li><label class='ee-shut'>properties: Object (4 properties)<input type='checkbox' class='ee-toggle'></label><ul><li><span class='ee-k'>east:</span><span class='ee-v'>-103.374</span></li><li><span class='ee-k'>north:</span><span class='ee-v'>39.288000000000004</span></li><li><span class='ee-k'>south:</span><span class='ee-v'>34.0891</span></li><li><span class='ee-k'>west:</span><span class='ee-v'>-107.95895</span></li></ul></li></ul></li><li><label class='ee-shut'>2: Feature (Polygon, 4 properties)<input type='checkbox' class='ee-toggle'></label><ul><li><span class='ee-k'>type:</span><span class='ee-v'>Feature</span></li><li><span class='ee-k'>id:</span><span class='ee-v'>0_2</span></li><li><label class='ee-shut'>geometry: Polygon (5 vertices)<input type='checkbox' class='ee-toggle'></label><ul><li><span class='ee-k'>type:</span><span class='ee-v'>Polygon</span></li><li><label class='ee-shut'>coordinates: List (1 element)<input type='checkbox' class='ee-toggle'></label><ul><li><label class='ee-shut'>0: List (5 elements)<input type='checkbox' class='ee-toggle'></label><ul><li><label class='ee-shut'>0: [-103.37400000000001, 34.0891]<input type='checkbox' class='ee-toggle'></label><ul><li><span class='ee-k'>0:</span><span class='ee-v'>-103.37400000000001</span></li><li><span class='ee-k'>1:</span><span class='ee-v'>34.0891</span></li></ul></li><li><label class='ee-shut'>1: [-98.78905, 34.0891]<input type='checkbox' class='ee-toggle'></label><ul><li><span class='ee-k'>0:</span><span class='ee-v'>-98.78905</span></li><li><span class='ee-k'>1:</span><span class='ee-v'>34.0891</span></li></ul></li><li><label class='ee-shut'>2: [-98.78905, 39.288000000000004]<input type='checkbox' class='ee-toggle'></label><ul><li><span class='ee-k'>0:</span><span class='ee-v'>-98.78905</span></li><li><span class='ee-k'>1:</span><span class='ee-v'>39.288000000000004</span></li></ul></li><li><label class='ee-shut'>3: [-103.37400000000001, 39.288000000000004]<input type='checkbox' class='ee-toggle'></label><ul><li><span class='ee-k'>0:</span><span class='ee-v'>-103.37400000000001</span></li><li><span class='ee-k'>1:</span><span class='ee-v'>39.288000000000004</span></li></ul></li><li><label class='ee-shut'>4: [-103.37400000000001, 34.0891]<input type='checkbox' class='ee-toggle'></label><ul><li><span class='ee-k'>0:</span><span class='ee-v'>-103.37400000000001</span></li><li><span class='ee-k'>1:</span><span class='ee-v'>34.0891</span></li></ul></li></ul></li></ul></li><li><span class='ee-k'>geodesic:</span><span class='ee-v'>False</span></li></ul></li><li><label class='ee-shut'>properties: Object (4 properties)<input type='checkbox' class='ee-toggle'></label><ul><li><span class='ee-k'>east:</span><span class='ee-v'>-98.78905</span></li><li><span class='ee-k'>north:</span><span class='ee-v'>39.288000000000004</span></li><li><span class='ee-k'>south:</span><span class='ee-v'>34.0891</span></li><li><span class='ee-k'>west:</span><span class='ee-v'>-103.37400000000001</span></li></ul></li></ul></li><li><label class='ee-shut'>3: Feature (Polygon, 4 properties)<input type='checkbox' class='ee-toggle'></label><ul><li><span class='ee-k'>type:</span><span class='ee-v'>Feature</span></li><li><span class='ee-k'>id:</span><span class='ee-v'>0_3</span></li><li><label class='ee-shut'>geometry: Polygon (5 vertices)<input type='checkbox' class='ee-toggle'></label><ul><li><span class='ee-k'>type:</span><span class='ee-v'>Polygon</span></li><li><label class='ee-shut'>coordinates: List (1 element)<input type='checkbox' class='ee-toggle'></label><ul><li><label class='ee-shut'>0: List (5 elements)<input type='checkbox' class='ee-toggle'></label><ul><li><label class='ee-shut'>0: [-98.78905, 34.0891]<input type='checkbox' class='ee-toggle'></label><ul><li><span class='ee-k'>0:</span><span class='ee-v'>-98.78905</span></li><li><span class='ee-k'>1:</span><span class='ee-v'>34.0891</span></li></ul></li><li><label class='ee-shut'>1: [-94.2041, 34.0891]<input type='checkbox' class='ee-toggle'></label><ul><li><span class='ee-k'>0:</span><span class='ee-v'>-94.2041</span></li><li><span class='ee-k'>1:</span><span class='ee-v'>34.0891</span></li></ul></li><li><label class='ee-shut'>2: [-94.2041, 39.288000000000004]<input type='checkbox' class='ee-toggle'></label><ul><li><span class='ee-k'>0:</span><span class='ee-v'>-94.2041</span></li><li><span class='ee-k'>1:</span><span class='ee-v'>39.288000000000004</span></li></ul></li><li><label class='ee-shut'>3: [-98.78905, 39.288000000000004]<input type='checkbox' class='ee-toggle'></label><ul><li><span class='ee-k'>0:</span><span class='ee-v'>-98.78905</span></li><li><span class='ee-k'>1:</span><span class='ee-v'>39.288000000000004</span></li></ul></li><li><label class='ee-shut'>4: [-98.78905, 34.0891]<input type='checkbox' class='ee-toggle'></label><ul><li><span class='ee-k'>0:</span><span class='ee-v'>-98.78905</span></li><li><span class='ee-k'>1:</span><span class='ee-v'>34.0891</span></li></ul></li></ul></li></ul></li><li><span class='ee-k'>geodesic:</span><span class='ee-v'>False</span></li></ul></li><li><label class='ee-shut'>properties: Object (4 properties)<input type='checkbox' class='ee-toggle'></label><ul><li><span class='ee-k'>east:</span><span class='ee-v'>-94.2041</span></li><li><span class='ee-k'>north:</span><span class='ee-v'>39.288000000000004</span></li><li><span class='ee-k'>south:</span><span class='ee-v'>34.0891</span></li><li><span class='ee-k'>west:</span><span class='ee-v'>-98.78905</span></li></ul></li></ul></li><li><label class='ee-shut'>4: Feature (Polygon, 4 properties)<input type='checkbox' class='ee-toggle'></label><ul><li><span class='ee-k'>type:</span><span class='ee-v'>Feature</span></li><li><span class='ee-k'>id:</span><span class='ee-v'>0_4</span></li><li><label class='ee-shut'>geometry: Polygon (5 vertices)<input type='checkbox' class='ee-toggle'></label><ul><li><span class='ee-k'>type:</span><span class='ee-v'>Polygon</span></li><li><label class='ee-shut'>coordinates: List (1 element)<input type='checkbox' class='ee-toggle'></label><ul><li><label class='ee-shut'>0: List (5 elements)<input type='checkbox' class='ee-toggle'></label><ul><li><label class='ee-shut'>0: [-94.2041, 34.0891]<input type='checkbox' class='ee-toggle'></label><ul><li><span class='ee-k'>0:</span><span class='ee-v'>-94.2041</span></li><li><span class='ee-k'>1:</span><span class='ee-v'>34.0891</span></li></ul></li><li><label class='ee-shut'>1: [-89.61914999999999, 34.0891]<input type='checkbox' class='ee-toggle'></label><ul><li><span class='ee-k'>0:</span><span class='ee-v'>-89.61914999999999</span></li><li><span class='ee-k'>1:</span><span class='ee-v'>34.0891</span></li></ul></li><li><label class='ee-shut'>2: [-89.61914999999999, 39.288000000000004]<input type='checkbox' class='ee-toggle'></label><ul><li><span class='ee-k'>0:</span><span class='ee-v'>-89.61914999999999</span></li><li><span class='ee-k'>1:</span><span class='ee-v'>39.288000000000004</span></li></ul></li><li><label class='ee-shut'>3: [-94.2041, 39.288000000000004]<input type='checkbox' class='ee-toggle'></label><ul><li><span class='ee-k'>0:</span><span class='ee-v'>-94.2041</span></li><li><span class='ee-k'>1:</span><span class='ee-v'>39.288000000000004</span></li></ul></li><li><label class='ee-shut'>4: [-94.2041, 34.0891]<input type='checkbox' class='ee-toggle'></label><ul><li><span class='ee-k'>0:</span><span class='ee-v'>-94.2041</span></li><li><span class='ee-k'>1:</span><span class='ee-v'>34.0891</span></li></ul></li></ul></li></ul></li><li><span class='ee-k'>geodesic:</span><span class='ee-v'>False</span></li></ul></li><li><label class='ee-shut'>properties: Object (4 properties)<input type='checkbox' class='ee-toggle'></label><ul><li><span class='ee-k'>east:</span><span class='ee-v'>-89.61914999999999</span></li><li><span class='ee-k'>north:</span><span class='ee-v'>39.288000000000004</span></li><li><span class='ee-k'>south:</span><span class='ee-v'>34.0891</span></li><li><span class='ee-k'>west:</span><span class='ee-v'>-94.2041</span></li></ul></li></ul></li><li><label class='ee-shut'>5: Feature (Polygon, 4 properties)<input type='checkbox' class='ee-toggle'></label><ul><li><span class='ee-k'>type:</span><span class='ee-v'>Feature</span></li><li><span class='ee-k'>id:</span><span class='ee-v'>0_5</span></li><li><label class='ee-shut'>geometry: Polygon (5 vertices)<input type='checkbox' class='ee-toggle'></label><ul><li><span class='ee-k'>type:</span><span class='ee-v'>Polygon</span></li><li><label class='ee-shut'>coordinates: List (1 element)<input type='checkbox' class='ee-toggle'></label><ul><li><label class='ee-shut'>0: List (5 elements)<input type='checkbox' class='ee-toggle'></label><ul><li><label class='ee-shut'>0: [-89.61914999999999, 34.0891]<input type='checkbox' class='ee-toggle'></label><ul><li><span class='ee-k'>0:</span><span class='ee-v'>-89.61914999999999</span></li><li><span class='ee-k'>1:</span><span class='ee-v'>34.0891</span></li></ul></li><li><label class='ee-shut'>1: [-85.03419999999998, 34.0891]<input type='checkbox' class='ee-toggle'></label><ul><li><span class='ee-k'>0:</span><span class='ee-v'>-85.03419999999998</span></li><li><span class='ee-k'>1:</span><span class='ee-v'>34.0891</span></li></ul></li><li><label class='ee-shut'>2: [-85.03419999999998, 39.288000000000004]<input type='checkbox' class='ee-toggle'></label><ul><li><span class='ee-k'>0:</span><span class='ee-v'>-85.03419999999998</span></li><li><span class='ee-k'>1:</span><span class='ee-v'>39.288000000000004</span></li></ul></li><li><label class='ee-shut'>3: [-89.61914999999999, 39.288000000000004]<input type='checkbox' class='ee-toggle'></label><ul><li><span class='ee-k'>0:</span><span class='ee-v'>-89.61914999999999</span></li><li><span class='ee-k'>1:</span><span class='ee-v'>39.288000000000004</span></li></ul></li><li><label class='ee-shut'>4: [-89.61914999999999, 34.0891]<input type='checkbox' class='ee-toggle'></label><ul><li><span class='ee-k'>0:</span><span class='ee-v'>-89.61914999999999</span></li><li><span class='ee-k'>1:</span><span class='ee-v'>34.0891</span></li></ul></li></ul></li></ul></li><li><span class='ee-k'>geodesic:</span><span class='ee-v'>False</span></li></ul></li><li><label class='ee-shut'>properties: Object (4 properties)<input type='checkbox' class='ee-toggle'></label><ul><li><span class='ee-k'>east:</span><span class='ee-v'>-85.03419999999998</span></li><li><span class='ee-k'>north:</span><span class='ee-v'>39.288000000000004</span></li><li><span class='ee-k'>south:</span><span class='ee-v'>34.0891</span></li><li><span class='ee-k'>west:</span><span class='ee-v'>-89.61914999999999</span></li></ul></li></ul></li><li><label class='ee-shut'>6: Feature (Polygon, 4 properties)<input type='checkbox' class='ee-toggle'></label><ul><li><span class='ee-k'>type:</span><span class='ee-v'>Feature</span></li><li><span class='ee-k'>id:</span><span class='ee-v'>0_6</span></li><li><label class='ee-shut'>geometry: Polygon (5 vertices)<input type='checkbox' class='ee-toggle'></label><ul><li><span class='ee-k'>type:</span><span class='ee-v'>Polygon</span></li><li><label class='ee-shut'>coordinates: List (1 element)<input type='checkbox' class='ee-toggle'></label><ul><li><label class='ee-shut'>0: List (5 elements)<input type='checkbox' class='ee-toggle'></label><ul><li><label class='ee-shut'>0: [-85.0342, 34.0891]<input type='checkbox' class='ee-toggle'></label><ul><li><span class='ee-k'>0:</span><span class='ee-v'>-85.0342</span></li><li><span class='ee-k'>1:</span><span class='ee-v'>34.0891</span></li></ul></li><li><label class='ee-shut'>1: [-80.44924999999999, 34.0891]<input type='checkbox' class='ee-toggle'></label><ul><li><span class='ee-k'>0:</span><span class='ee-v'>-80.44924999999999</span></li><li><span class='ee-k'>1:</span><span class='ee-v'>34.0891</span></li></ul></li><li><label class='ee-shut'>2: [-80.44924999999999, 39.288000000000004]<input type='checkbox' class='ee-toggle'></label><ul><li><span class='ee-k'>0:</span><span class='ee-v'>-80.44924999999999</span></li><li><span class='ee-k'>1:</span><span class='ee-v'>39.288000000000004</span></li></ul></li><li><label class='ee-shut'>3: [-85.0342, 39.288000000000004]<input type='checkbox' class='ee-toggle'></label><ul><li><span class='ee-k'>0:</span><span class='ee-v'>-85.0342</span></li><li><span class='ee-k'>1:</span><span class='ee-v'>39.288000000000004</span></li></ul></li><li><label class='ee-shut'>4: [-85.0342, 34.0891]<input type='checkbox' class='ee-toggle'></label><ul><li><span class='ee-k'>0:</span><span class='ee-v'>-85.0342</span></li><li><span class='ee-k'>1:</span><span class='ee-v'>34.0891</span></li></ul></li></ul></li></ul></li><li><span class='ee-k'>geodesic:</span><span class='ee-v'>False</span></li></ul></li><li><label class='ee-shut'>properties: Object (4 properties)<input type='checkbox' class='ee-toggle'></label><ul><li><span class='ee-k'>east:</span><span class='ee-v'>-80.44924999999999</span></li><li><span class='ee-k'>north:</span><span class='ee-v'>39.288000000000004</span></li><li><span class='ee-k'>south:</span><span class='ee-v'>34.0891</span></li><li><span class='ee-k'>west:</span><span class='ee-v'>-85.0342</span></li></ul></li></ul></li><li><label class='ee-shut'>7: Feature (Polygon, 4 properties)<input type='checkbox' class='ee-toggle'></label><ul><li><span class='ee-k'>type:</span><span class='ee-v'>Feature</span></li><li><span class='ee-k'>id:</span><span class='ee-v'>1_0</span></li><li><label class='ee-shut'>geometry: Polygon (5 vertices)<input type='checkbox' class='ee-toggle'></label><ul><li><span class='ee-k'>type:</span><span class='ee-v'>Polygon</span></li><li><label class='ee-shut'>coordinates: List (1 element)<input type='checkbox' class='ee-toggle'></label><ul><li><label class='ee-shut'>0: List (5 elements)<input type='checkbox' class='ee-toggle'></label><ul><li><label class='ee-shut'>0: [-112.54390000000001, 39.288000000000004]<input type='checkbox' class='ee-toggle'></label><ul><li><span class='ee-k'>0:</span><span class='ee-v'>-112.54390000000001</span></li><li><span class='ee-k'>1:</span><span class='ee-v'>39.288000000000004</span></li></ul></li><li><label class='ee-shut'>1: [-107.95895, 39.288000000000004]<input type='checkbox' class='ee-toggle'></label><ul><li><span class='ee-k'>0:</span><span class='ee-v'>-107.95895</span></li><li><span class='ee-k'>1:</span><span class='ee-v'>39.288000000000004</span></li></ul></li><li><label class='ee-shut'>2: [-107.95895, 44.486900000000006]<input type='checkbox' class='ee-toggle'></label><ul><li><span class='ee-k'>0:</span><span class='ee-v'>-107.95895</span></li><li><span class='ee-k'>1:</span><span class='ee-v'>44.486900000000006</span></li></ul></li><li><label class='ee-shut'>3: [-112.54390000000001, 44.486900000000006]<input type='checkbox' class='ee-toggle'></label><ul><li><span class='ee-k'>0:</span><span class='ee-v'>-112.54390000000001</span></li><li><span class='ee-k'>1:</span><span class='ee-v'>44.486900000000006</span></li></ul></li><li><label class='ee-shut'>4: [-112.54390000000001, 39.288000000000004]<input type='checkbox' class='ee-toggle'></label><ul><li><span class='ee-k'>0:</span><span class='ee-v'>-112.54390000000001</span></li><li><span class='ee-k'>1:</span><span class='ee-v'>39.288000000000004</span></li></ul></li></ul></li></ul></li><li><span class='ee-k'>geodesic:</span><span class='ee-v'>False</span></li></ul></li><li><label class='ee-shut'>properties: Object (4 properties)<input type='checkbox' class='ee-toggle'></label><ul><li><span class='ee-k'>east:</span><span class='ee-v'>-107.95895</span></li><li><span class='ee-k'>north:</span><span class='ee-v'>44.486900000000006</span></li><li><span class='ee-k'>south:</span><span class='ee-v'>39.288000000000004</span></li><li><span class='ee-k'>west:</span><span class='ee-v'>-112.54390000000001</span></li></ul></li></ul></li><li><label class='ee-shut'>8: Feature (Polygon, 4 properties)<input type='checkbox' class='ee-toggle'></label><ul><li><span class='ee-k'>type:</span><span class='ee-v'>Feature</span></li><li><span class='ee-k'>id:</span><span class='ee-v'>1_1</span></li><li><label class='ee-shut'>geometry: Polygon (5 vertices)<input type='checkbox' class='ee-toggle'></label><ul><li><span class='ee-k'>type:</span><span class='ee-v'>Polygon</span></li><li><label class='ee-shut'>coordinates: List (1 element)<input type='checkbox' class='ee-toggle'></label><ul><li><label class='ee-shut'>0: List (5 elements)<input type='checkbox' class='ee-toggle'></label><ul><li><label class='ee-shut'>0: [-107.95895, 39.288000000000004]<input type='checkbox' class='ee-toggle'></label><ul><li><span class='ee-k'>0:</span><span class='ee-v'>-107.95895</span></li><li><span class='ee-k'>1:</span><span class='ee-v'>39.288000000000004</span></li></ul></li><li><label class='ee-shut'>1: [-103.374, 39.288000000000004]<input type='checkbox' class='ee-toggle'></label><ul><li><span class='ee-k'>0:</span><span class='ee-v'>-103.374</span></li><li><span class='ee-k'>1:</span><span class='ee-v'>39.288000000000004</span></li></ul></li><li><label class='ee-shut'>2: [-103.374, 44.486900000000006]<input type='checkbox' class='ee-toggle'></label><ul><li><span class='ee-k'>0:</span><span class='ee-v'>-103.374</span></li><li><span class='ee-k'>1:</span><span class='ee-v'>44.486900000000006</span></li></ul></li><li><label class='ee-shut'>3: [-107.95895, 44.486900000000006]<input type='checkbox' class='ee-toggle'></label><ul><li><span class='ee-k'>0:</span><span class='ee-v'>-107.95895</span></li><li><span class='ee-k'>1:</span><span class='ee-v'>44.486900000000006</span></li></ul></li><li><label class='ee-shut'>4: [-107.95895, 39.288000000000004]<input type='checkbox' class='ee-toggle'></label><ul><li><span class='ee-k'>0:</span><span class='ee-v'>-107.95895</span></li><li><span class='ee-k'>1:</span><span class='ee-v'>39.288000000000004</span></li></ul></li></ul></li></ul></li><li><span class='ee-k'>geodesic:</span><span class='ee-v'>False</span></li></ul></li><li><label class='ee-shut'>properties: Object (4 properties)<input type='checkbox' class='ee-toggle'></label><ul><li><span class='ee-k'>east:</span><span class='ee-v'>-103.374</span></li><li><span class='ee-k'>north:</span><span class='ee-v'>44.486900000000006</span></li><li><span class='ee-k'>south:</span><span class='ee-v'>39.288000000000004</span></li><li><span class='ee-k'>west:</span><span class='ee-v'>-107.95895</span></li></ul></li></ul></li><li><label class='ee-shut'>9: Feature (Polygon, 4 properties)<input type='checkbox' class='ee-toggle'></label><ul><li><span class='ee-k'>type:</span><span class='ee-v'>Feature</span></li><li><span class='ee-k'>id:</span><span class='ee-v'>1_2</span></li><li><label class='ee-shut'>geometry: Polygon (5 vertices)<input type='checkbox' class='ee-toggle'></label><ul><li><span class='ee-k'>type:</span><span class='ee-v'>Polygon</span></li><li><label class='ee-shut'>coordinates: List (1 element)<input type='checkbox' class='ee-toggle'></label><ul><li><label class='ee-shut'>0: List (5 elements)<input type='checkbox' class='ee-toggle'></label><ul><li><label class='ee-shut'>0: [-103.37400000000001, 39.288000000000004]<input type='checkbox' class='ee-toggle'></label><ul><li><span class='ee-k'>0:</span><span class='ee-v'>-103.37400000000001</span></li><li><span class='ee-k'>1:</span><span class='ee-v'>39.288000000000004</span></li></ul></li><li><label class='ee-shut'>1: [-98.78905, 39.288000000000004]<input type='checkbox' class='ee-toggle'></label><ul><li><span class='ee-k'>0:</span><span class='ee-v'>-98.78905</span></li><li><span class='ee-k'>1:</span><span class='ee-v'>39.288000000000004</span></li></ul></li><li><label class='ee-shut'>2: [-98.78905, 44.486900000000006]<input type='checkbox' class='ee-toggle'></label><ul><li><span class='ee-k'>0:</span><span class='ee-v'>-98.78905</span></li><li><span class='ee-k'>1:</span><span class='ee-v'>44.486900000000006</span></li></ul></li><li><label class='ee-shut'>3: [-103.37400000000001, 44.486900000000006]<input type='checkbox' class='ee-toggle'></label><ul><li><span class='ee-k'>0:</span><span class='ee-v'>-103.37400000000001</span></li><li><span class='ee-k'>1:</span><span class='ee-v'>44.486900000000006</span></li></ul></li><li><label class='ee-shut'>4: [-103.37400000000001, 39.288000000000004]<input type='checkbox' class='ee-toggle'></label><ul><li><span class='ee-k'>0:</span><span class='ee-v'>-103.37400000000001</span></li><li><span class='ee-k'>1:</span><span class='ee-v'>39.288000000000004</span></li></ul></li></ul></li></ul></li><li><span class='ee-k'>geodesic:</span><span class='ee-v'>False</span></li></ul></li><li><label class='ee-shut'>properties: Object (4 properties)<input type='checkbox' class='ee-toggle'></label><ul><li><span class='ee-k'>east:</span><span class='ee-v'>-98.78905</span></li><li><span class='ee-k'>north:</span><span class='ee-v'>44.486900000000006</span></li><li><span class='ee-k'>south:</span><span class='ee-v'>39.288000000000004</span></li><li><span class='ee-k'>west:</span><span class='ee-v'>-103.37400000000001</span></li></ul></li></ul></li><li><label class='ee-shut'>10: Feature (Polygon, 4 properties)<input type='checkbox' class='ee-toggle'></label><ul><li><span class='ee-k'>type:</span><span class='ee-v'>Feature</span></li><li><span class='ee-k'>id:</span><span class='ee-v'>1_3</span></li><li><label class='ee-shut'>geometry: Polygon (5 vertices)<input type='checkbox' class='ee-toggle'></label><ul><li><span class='ee-k'>type:</span><span class='ee-v'>Polygon</span></li><li><label class='ee-shut'>coordinates: List (1 element)<input type='checkbox' class='ee-toggle'></label><ul><li><label class='ee-shut'>0: List (5 elements)<input type='checkbox' class='ee-toggle'></label><ul><li><label class='ee-shut'>0: [-98.78905, 39.288000000000004]<input type='checkbox' class='ee-toggle'></label><ul><li><span class='ee-k'>0:</span><span class='ee-v'>-98.78905</span></li><li><span class='ee-k'>1:</span><span class='ee-v'>39.288000000000004</span></li></ul></li><li><label class='ee-shut'>1: [-94.2041, 39.288000000000004]<input type='checkbox' class='ee-toggle'></label><ul><li><span class='ee-k'>0:</span><span class='ee-v'>-94.2041</span></li><li><span class='ee-k'>1:</span><span class='ee-v'>39.288000000000004</span></li></ul></li><li><label class='ee-shut'>2: [-94.2041, 44.486900000000006]<input type='checkbox' class='ee-toggle'></label><ul><li><span class='ee-k'>0:</span><span class='ee-v'>-94.2041</span></li><li><span class='ee-k'>1:</span><span class='ee-v'>44.486900000000006</span></li></ul></li><li><label class='ee-shut'>3: [-98.78905, 44.486900000000006]<input type='checkbox' class='ee-toggle'></label><ul><li><span class='ee-k'>0:</span><span class='ee-v'>-98.78905</span></li><li><span class='ee-k'>1:</span><span class='ee-v'>44.486900000000006</span></li></ul></li><li><label class='ee-shut'>4: [-98.78905, 39.288000000000004]<input type='checkbox' class='ee-toggle'></label><ul><li><span class='ee-k'>0:</span><span class='ee-v'>-98.78905</span></li><li><span class='ee-k'>1:</span><span class='ee-v'>39.288000000000004</span></li></ul></li></ul></li></ul></li><li><span class='ee-k'>geodesic:</span><span class='ee-v'>False</span></li></ul></li><li><label class='ee-shut'>properties: Object (4 properties)<input type='checkbox' class='ee-toggle'></label><ul><li><span class='ee-k'>east:</span><span class='ee-v'>-94.2041</span></li><li><span class='ee-k'>north:</span><span class='ee-v'>44.486900000000006</span></li><li><span class='ee-k'>south:</span><span class='ee-v'>39.288000000000004</span></li><li><span class='ee-k'>west:</span><span class='ee-v'>-98.78905</span></li></ul></li></ul></li><li><label class='ee-shut'>11: Feature (Polygon, 4 properties)<input type='checkbox' class='ee-toggle'></label><ul><li><span class='ee-k'>type:</span><span class='ee-v'>Feature</span></li><li><span class='ee-k'>id:</span><span class='ee-v'>1_4</span></li><li><label class='ee-shut'>geometry: Polygon (5 vertices)<input type='checkbox' class='ee-toggle'></label><ul><li><span class='ee-k'>type:</span><span class='ee-v'>Polygon</span></li><li><label class='ee-shut'>coordinates: List (1 element)<input type='checkbox' class='ee-toggle'></label><ul><li><label class='ee-shut'>0: List (5 elements)<input type='checkbox' class='ee-toggle'></label><ul><li><label class='ee-shut'>0: [-94.2041, 39.288000000000004]<input type='checkbox' class='ee-toggle'></label><ul><li><span class='ee-k'>0:</span><span class='ee-v'>-94.2041</span></li><li><span class='ee-k'>1:</span><span class='ee-v'>39.288000000000004</span></li></ul></li><li><label class='ee-shut'>1: [-89.61914999999999, 39.288000000000004]<input type='checkbox' class='ee-toggle'></label><ul><li><span class='ee-k'>0:</span><span class='ee-v'>-89.61914999999999</span></li><li><span class='ee-k'>1:</span><span class='ee-v'>39.288000000000004</span></li></ul></li><li><label class='ee-shut'>2: [-89.61914999999999, 44.486900000000006]<input type='checkbox' class='ee-toggle'></label><ul><li><span class='ee-k'>0:</span><span class='ee-v'>-89.61914999999999</span></li><li><span class='ee-k'>1:</span><span class='ee-v'>44.486900000000006</span></li></ul></li><li><label class='ee-shut'>3: [-94.2041, 44.486900000000006]<input type='checkbox' class='ee-toggle'></label><ul><li><span class='ee-k'>0:</span><span class='ee-v'>-94.2041</span></li><li><span class='ee-k'>1:</span><span class='ee-v'>44.486900000000006</span></li></ul></li><li><label class='ee-shut'>4: [-94.2041, 39.288000000000004]<input type='checkbox' class='ee-toggle'></label><ul><li><span class='ee-k'>0:</span><span class='ee-v'>-94.2041</span></li><li><span class='ee-k'>1:</span><span class='ee-v'>39.288000000000004</span></li></ul></li></ul></li></ul></li><li><span class='ee-k'>geodesic:</span><span class='ee-v'>False</span></li></ul></li><li><label class='ee-shut'>properties: Object (4 properties)<input type='checkbox' class='ee-toggle'></label><ul><li><span class='ee-k'>east:</span><span class='ee-v'>-89.61914999999999</span></li><li><span class='ee-k'>north:</span><span class='ee-v'>44.486900000000006</span></li><li><span class='ee-k'>south:</span><span class='ee-v'>39.288000000000004</span></li><li><span class='ee-k'>west:</span><span class='ee-v'>-94.2041</span></li></ul></li></ul></li><li><label class='ee-shut'>12: Feature (Polygon, 4 properties)<input type='checkbox' class='ee-toggle'></label><ul><li><span class='ee-k'>type:</span><span class='ee-v'>Feature</span></li><li><span class='ee-k'>id:</span><span class='ee-v'>1_5</span></li><li><label class='ee-shut'>geometry: Polygon (5 vertices)<input type='checkbox' class='ee-toggle'></label><ul><li><span class='ee-k'>type:</span><span class='ee-v'>Polygon</span></li><li><label class='ee-shut'>coordinates: List (1 element)<input type='checkbox' class='ee-toggle'></label><ul><li><label class='ee-shut'>0: List (5 elements)<input type='checkbox' class='ee-toggle'></label><ul><li><label class='ee-shut'>0: [-89.61914999999999, 39.288000000000004]<input type='checkbox' class='ee-toggle'></label><ul><li><span class='ee-k'>0:</span><span class='ee-v'>-89.61914999999999</span></li><li><span class='ee-k'>1:</span><span class='ee-v'>39.288000000000004</span></li></ul></li><li><label class='ee-shut'>1: [-85.03419999999998, 39.288000000000004]<input type='checkbox' class='ee-toggle'></label><ul><li><span class='ee-k'>0:</span><span class='ee-v'>-85.03419999999998</span></li><li><span class='ee-k'>1:</span><span class='ee-v'>39.288000000000004</span></li></ul></li><li><label class='ee-shut'>2: [-85.03419999999998, 44.486900000000006]<input type='checkbox' class='ee-toggle'></label><ul><li><span class='ee-k'>0:</span><span class='ee-v'>-85.03419999999998</span></li><li><span class='ee-k'>1:</span><span class='ee-v'>44.486900000000006</span></li></ul></li><li><label class='ee-shut'>3: [-89.61914999999999, 44.486900000000006]<input type='checkbox' class='ee-toggle'></label><ul><li><span class='ee-k'>0:</span><span class='ee-v'>-89.61914999999999</span></li><li><span class='ee-k'>1:</span><span class='ee-v'>44.486900000000006</span></li></ul></li><li><label class='ee-shut'>4: [-89.61914999999999, 39.288000000000004]<input type='checkbox' class='ee-toggle'></label><ul><li><span class='ee-k'>0:</span><span class='ee-v'>-89.61914999999999</span></li><li><span class='ee-k'>1:</span><span class='ee-v'>39.288000000000004</span></li></ul></li></ul></li></ul></li><li><span class='ee-k'>geodesic:</span><span class='ee-v'>False</span></li></ul></li><li><label class='ee-shut'>properties: Object (4 properties)<input type='checkbox' class='ee-toggle'></label><ul><li><span class='ee-k'>east:</span><span class='ee-v'>-85.03419999999998</span></li><li><span class='ee-k'>north:</span><span class='ee-v'>44.486900000000006</span></li><li><span class='ee-k'>south:</span><span class='ee-v'>39.288000000000004</span></li><li><span class='ee-k'>west:</span><span class='ee-v'>-89.61914999999999</span></li></ul></li></ul></li><li><label class='ee-shut'>13: Feature (Polygon, 4 properties)<input type='checkbox' class='ee-toggle'></label><ul><li><span class='ee-k'>type:</span><span class='ee-v'>Feature</span></li><li><span class='ee-k'>id:</span><span class='ee-v'>1_6</span></li><li><label class='ee-shut'>geometry: Polygon (5 vertices)<input type='checkbox' class='ee-toggle'></label><ul><li><span class='ee-k'>type:</span><span class='ee-v'>Polygon</span></li><li><label class='ee-shut'>coordinates: List (1 element)<input type='checkbox' class='ee-toggle'></label><ul><li><label class='ee-shut'>0: List (5 elements)<input type='checkbox' class='ee-toggle'></label><ul><li><label class='ee-shut'>0: [-85.0342, 39.288000000000004]<input type='checkbox' class='ee-toggle'></label><ul><li><span class='ee-k'>0:</span><span class='ee-v'>-85.0342</span></li><li><span class='ee-k'>1:</span><span class='ee-v'>39.288000000000004</span></li></ul></li><li><label class='ee-shut'>1: [-80.44924999999999, 39.288000000000004]<input type='checkbox' class='ee-toggle'></label><ul><li><span class='ee-k'>0:</span><span class='ee-v'>-80.44924999999999</span></li><li><span class='ee-k'>1:</span><span class='ee-v'>39.288000000000004</span></li></ul></li><li><label class='ee-shut'>2: [-80.44924999999999, 44.486900000000006]<input type='checkbox' class='ee-toggle'></label><ul><li><span class='ee-k'>0:</span><span class='ee-v'>-80.44924999999999</span></li><li><span class='ee-k'>1:</span><span class='ee-v'>44.486900000000006</span></li></ul></li><li><label class='ee-shut'>3: [-85.0342, 44.486900000000006]<input type='checkbox' class='ee-toggle'></label><ul><li><span class='ee-k'>0:</span><span class='ee-v'>-85.0342</span></li><li><span class='ee-k'>1:</span><span class='ee-v'>44.486900000000006</span></li></ul></li><li><label class='ee-shut'>4: [-85.0342, 39.288000000000004]<input type='checkbox' class='ee-toggle'></label><ul><li><span class='ee-k'>0:</span><span class='ee-v'>-85.0342</span></li><li><span class='ee-k'>1:</span><span class='ee-v'>39.288000000000004</span></li></ul></li></ul></li></ul></li><li><span class='ee-k'>geodesic:</span><span class='ee-v'>False</span></li></ul></li><li><label class='ee-shut'>properties: Object (4 properties)<input type='checkbox' class='ee-toggle'></label><ul><li><span class='ee-k'>east:</span><span class='ee-v'>-80.44924999999999</span></li><li><span class='ee-k'>north:</span><span class='ee-v'>44.486900000000006</span></li><li><span class='ee-k'>south:</span><span class='ee-v'>39.288000000000004</span></li><li><span class='ee-k'>west:</span><span class='ee-v'>-85.0342</span></li></ul></li></ul></li><li><label class='ee-shut'>14: Feature (Polygon, 4 properties)<input type='checkbox' class='ee-toggle'></label><ul><li><span class='ee-k'>type:</span><span class='ee-v'>Feature</span></li><li><span class='ee-k'>id:</span><span class='ee-v'>2_0</span></li><li><label class='ee-shut'>geometry: Polygon (5 vertices)<input type='checkbox' class='ee-toggle'></label><ul><li><span class='ee-k'>type:</span><span class='ee-v'>Polygon</span></li><li><label class='ee-shut'>coordinates: List (1 element)<input type='checkbox' class='ee-toggle'></label><ul><li><label class='ee-shut'>0: List (5 elements)<input type='checkbox' class='ee-toggle'></label><ul><li><label class='ee-shut'>0: [-112.54390000000001, 44.4869]<input type='checkbox' class='ee-toggle'></label><ul><li><span class='ee-k'>0:</span><span class='ee-v'>-112.54390000000001</span></li><li><span class='ee-k'>1:</span><span class='ee-v'>44.4869</span></li></ul></li><li><label class='ee-shut'>1: [-107.95895, 44.4869]<input type='checkbox' class='ee-toggle'></label><ul><li><span class='ee-k'>0:</span><span class='ee-v'>-107.95895</span></li><li><span class='ee-k'>1:</span><span class='ee-v'>44.4869</span></li></ul></li><li><label class='ee-shut'>2: [-107.95895, 49.6858]<input type='checkbox' class='ee-toggle'></label><ul><li><span class='ee-k'>0:</span><span class='ee-v'>-107.95895</span></li><li><span class='ee-k'>1:</span><span class='ee-v'>49.6858</span></li></ul></li><li><label class='ee-shut'>3: [-112.54390000000001, 49.6858]<input type='checkbox' class='ee-toggle'></label><ul><li><span class='ee-k'>0:</span><span class='ee-v'>-112.54390000000001</span></li><li><span class='ee-k'>1:</span><span class='ee-v'>49.6858</span></li></ul></li><li><label class='ee-shut'>4: [-112.54390000000001, 44.4869]<input type='checkbox' class='ee-toggle'></label><ul><li><span class='ee-k'>0:</span><span class='ee-v'>-112.54390000000001</span></li><li><span class='ee-k'>1:</span><span class='ee-v'>44.4869</span></li></ul></li></ul></li></ul></li><li><span class='ee-k'>geodesic:</span><span class='ee-v'>False</span></li></ul></li><li><label class='ee-shut'>properties: Object (4 properties)<input type='checkbox' class='ee-toggle'></label><ul><li><span class='ee-k'>east:</span><span class='ee-v'>-107.95895</span></li><li><span class='ee-k'>north:</span><span class='ee-v'>49.6858</span></li><li><span class='ee-k'>south:</span><span class='ee-v'>44.4869</span></li><li><span class='ee-k'>west:</span><span class='ee-v'>-112.54390000000001</span></li></ul></li></ul></li><li><label class='ee-shut'>15: Feature (Polygon, 4 properties)<input type='checkbox' class='ee-toggle'></label><ul><li><span class='ee-k'>type:</span><span class='ee-v'>Feature</span></li><li><span class='ee-k'>id:</span><span class='ee-v'>2_1</span></li><li><label class='ee-shut'>geometry: Polygon (5 vertices)<input type='checkbox' class='ee-toggle'></label><ul><li><span class='ee-k'>type:</span><span class='ee-v'>Polygon</span></li><li><label class='ee-shut'>coordinates: List (1 element)<input type='checkbox' class='ee-toggle'></label><ul><li><label class='ee-shut'>0: List (5 elements)<input type='checkbox' class='ee-toggle'></label><ul><li><label class='ee-shut'>0: [-107.95895, 44.4869]<input type='checkbox' class='ee-toggle'></label><ul><li><span class='ee-k'>0:</span><span class='ee-v'>-107.95895</span></li><li><span class='ee-k'>1:</span><span class='ee-v'>44.4869</span></li></ul></li><li><label class='ee-shut'>1: [-103.374, 44.4869]<input type='checkbox' class='ee-toggle'></label><ul><li><span class='ee-k'>0:</span><span class='ee-v'>-103.374</span></li><li><span class='ee-k'>1:</span><span class='ee-v'>44.4869</span></li></ul></li><li><label class='ee-shut'>2: [-103.374, 49.6858]<input type='checkbox' class='ee-toggle'></label><ul><li><span class='ee-k'>0:</span><span class='ee-v'>-103.374</span></li><li><span class='ee-k'>1:</span><span class='ee-v'>49.6858</span></li></ul></li><li><label class='ee-shut'>3: [-107.95895, 49.6858]<input type='checkbox' class='ee-toggle'></label><ul><li><span class='ee-k'>0:</span><span class='ee-v'>-107.95895</span></li><li><span class='ee-k'>1:</span><span class='ee-v'>49.6858</span></li></ul></li><li><label class='ee-shut'>4: [-107.95895, 44.4869]<input type='checkbox' class='ee-toggle'></label><ul><li><span class='ee-k'>0:</span><span class='ee-v'>-107.95895</span></li><li><span class='ee-k'>1:</span><span class='ee-v'>44.4869</span></li></ul></li></ul></li></ul></li><li><span class='ee-k'>geodesic:</span><span class='ee-v'>False</span></li></ul></li><li><label class='ee-shut'>properties: Object (4 properties)<input type='checkbox' class='ee-toggle'></label><ul><li><span class='ee-k'>east:</span><span class='ee-v'>-103.374</span></li><li><span class='ee-k'>north:</span><span class='ee-v'>49.6858</span></li><li><span class='ee-k'>south:</span><span class='ee-v'>44.4869</span></li><li><span class='ee-k'>west:</span><span class='ee-v'>-107.95895</span></li></ul></li></ul></li><li><label class='ee-shut'>16: Feature (Polygon, 4 properties)<input type='checkbox' class='ee-toggle'></label><ul><li><span class='ee-k'>type:</span><span class='ee-v'>Feature</span></li><li><span class='ee-k'>id:</span><span class='ee-v'>2_2</span></li><li><label class='ee-shut'>geometry: Polygon (5 vertices)<input type='checkbox' class='ee-toggle'></label><ul><li><span class='ee-k'>type:</span><span class='ee-v'>Polygon</span></li><li><label class='ee-shut'>coordinates: List (1 element)<input type='checkbox' class='ee-toggle'></label><ul><li><label class='ee-shut'>0: List (5 elements)<input type='checkbox' class='ee-toggle'></label><ul><li><label class='ee-shut'>0: [-103.37400000000001, 44.4869]<input type='checkbox' class='ee-toggle'></label><ul><li><span class='ee-k'>0:</span><span class='ee-v'>-103.37400000000001</span></li><li><span class='ee-k'>1:</span><span class='ee-v'>44.4869</span></li></ul></li><li><label class='ee-shut'>1: [-98.78905, 44.4869]<input type='checkbox' class='ee-toggle'></label><ul><li><span class='ee-k'>0:</span><span class='ee-v'>-98.78905</span></li><li><span class='ee-k'>1:</span><span class='ee-v'>44.4869</span></li></ul></li><li><label class='ee-shut'>2: [-98.78905, 49.6858]<input type='checkbox' class='ee-toggle'></label><ul><li><span class='ee-k'>0:</span><span class='ee-v'>-98.78905</span></li><li><span class='ee-k'>1:</span><span class='ee-v'>49.6858</span></li></ul></li><li><label class='ee-shut'>3: [-103.37400000000001, 49.6858]<input type='checkbox' class='ee-toggle'></label><ul><li><span class='ee-k'>0:</span><span class='ee-v'>-103.37400000000001</span></li><li><span class='ee-k'>1:</span><span class='ee-v'>49.6858</span></li></ul></li><li><label class='ee-shut'>4: [-103.37400000000001, 44.4869]<input type='checkbox' class='ee-toggle'></label><ul><li><span class='ee-k'>0:</span><span class='ee-v'>-103.37400000000001</span></li><li><span class='ee-k'>1:</span><span class='ee-v'>44.4869</span></li></ul></li></ul></li></ul></li><li><span class='ee-k'>geodesic:</span><span class='ee-v'>False</span></li></ul></li><li><label class='ee-shut'>properties: Object (4 properties)<input type='checkbox' class='ee-toggle'></label><ul><li><span class='ee-k'>east:</span><span class='ee-v'>-98.78905</span></li><li><span class='ee-k'>north:</span><span class='ee-v'>49.6858</span></li><li><span class='ee-k'>south:</span><span class='ee-v'>44.4869</span></li><li><span class='ee-k'>west:</span><span class='ee-v'>-103.37400000000001</span></li></ul></li></ul></li><li><label class='ee-shut'>17: Feature (Polygon, 4 properties)<input type='checkbox' class='ee-toggle'></label><ul><li><span class='ee-k'>type:</span><span class='ee-v'>Feature</span></li><li><span class='ee-k'>id:</span><span class='ee-v'>2_3</span></li><li><label class='ee-shut'>geometry: Polygon (5 vertices)<input type='checkbox' class='ee-toggle'></label><ul><li><span class='ee-k'>type:</span><span class='ee-v'>Polygon</span></li><li><label class='ee-shut'>coordinates: List (1 element)<input type='checkbox' class='ee-toggle'></label><ul><li><label class='ee-shut'>0: List (5 elements)<input type='checkbox' class='ee-toggle'></label><ul><li><label class='ee-shut'>0: [-98.78905, 44.4869]<input type='checkbox' class='ee-toggle'></label><ul><li><span class='ee-k'>0:</span><span class='ee-v'>-98.78905</span></li><li><span class='ee-k'>1:</span><span class='ee-v'>44.4869</span></li></ul></li><li><label class='ee-shut'>1: [-94.2041, 44.4869]<input type='checkbox' class='ee-toggle'></label><ul><li><span class='ee-k'>0:</span><span class='ee-v'>-94.2041</span></li><li><span class='ee-k'>1:</span><span class='ee-v'>44.4869</span></li></ul></li><li><label class='ee-shut'>2: [-94.2041, 49.6858]<input type='checkbox' class='ee-toggle'></label><ul><li><span class='ee-k'>0:</span><span class='ee-v'>-94.2041</span></li><li><span class='ee-k'>1:</span><span class='ee-v'>49.6858</span></li></ul></li><li><label class='ee-shut'>3: [-98.78905, 49.6858]<input type='checkbox' class='ee-toggle'></label><ul><li><span class='ee-k'>0:</span><span class='ee-v'>-98.78905</span></li><li><span class='ee-k'>1:</span><span class='ee-v'>49.6858</span></li></ul></li><li><label class='ee-shut'>4: [-98.78905, 44.4869]<input type='checkbox' class='ee-toggle'></label><ul><li><span class='ee-k'>0:</span><span class='ee-v'>-98.78905</span></li><li><span class='ee-k'>1:</span><span class='ee-v'>44.4869</span></li></ul></li></ul></li></ul></li><li><span class='ee-k'>geodesic:</span><span class='ee-v'>False</span></li></ul></li><li><label class='ee-shut'>properties: Object (4 properties)<input type='checkbox' class='ee-toggle'></label><ul><li><span class='ee-k'>east:</span><span class='ee-v'>-94.2041</span></li><li><span class='ee-k'>north:</span><span class='ee-v'>49.6858</span></li><li><span class='ee-k'>south:</span><span class='ee-v'>44.4869</span></li><li><span class='ee-k'>west:</span><span class='ee-v'>-98.78905</span></li></ul></li></ul></li><li><label class='ee-shut'>18: Feature (Polygon, 4 properties)<input type='checkbox' class='ee-toggle'></label><ul><li><span class='ee-k'>type:</span><span class='ee-v'>Feature</span></li><li><span class='ee-k'>id:</span><span class='ee-v'>2_4</span></li><li><label class='ee-shut'>geometry: Polygon (5 vertices)<input type='checkbox' class='ee-toggle'></label><ul><li><span class='ee-k'>type:</span><span class='ee-v'>Polygon</span></li><li><label class='ee-shut'>coordinates: List (1 element)<input type='checkbox' class='ee-toggle'></label><ul><li><label class='ee-shut'>0: List (5 elements)<input type='checkbox' class='ee-toggle'></label><ul><li><label class='ee-shut'>0: [-94.2041, 44.4869]<input type='checkbox' class='ee-toggle'></label><ul><li><span class='ee-k'>0:</span><span class='ee-v'>-94.2041</span></li><li><span class='ee-k'>1:</span><span class='ee-v'>44.4869</span></li></ul></li><li><label class='ee-shut'>1: [-89.61914999999999, 44.4869]<input type='checkbox' class='ee-toggle'></label><ul><li><span class='ee-k'>0:</span><span class='ee-v'>-89.61914999999999</span></li><li><span class='ee-k'>1:</span><span class='ee-v'>44.4869</span></li></ul></li><li><label class='ee-shut'>2: [-89.61914999999999, 49.6858]<input type='checkbox' class='ee-toggle'></label><ul><li><span class='ee-k'>0:</span><span class='ee-v'>-89.61914999999999</span></li><li><span class='ee-k'>1:</span><span class='ee-v'>49.6858</span></li></ul></li><li><label class='ee-shut'>3: [-94.2041, 49.6858]<input type='checkbox' class='ee-toggle'></label><ul><li><span class='ee-k'>0:</span><span class='ee-v'>-94.2041</span></li><li><span class='ee-k'>1:</span><span class='ee-v'>49.6858</span></li></ul></li><li><label class='ee-shut'>4: [-94.2041, 44.4869]<input type='checkbox' class='ee-toggle'></label><ul><li><span class='ee-k'>0:</span><span class='ee-v'>-94.2041</span></li><li><span class='ee-k'>1:</span><span class='ee-v'>44.4869</span></li></ul></li></ul></li></ul></li><li><span class='ee-k'>geodesic:</span><span class='ee-v'>False</span></li></ul></li><li><label class='ee-shut'>properties: Object (4 properties)<input type='checkbox' class='ee-toggle'></label><ul><li><span class='ee-k'>east:</span><span class='ee-v'>-89.61914999999999</span></li><li><span class='ee-k'>north:</span><span class='ee-v'>49.6858</span></li><li><span class='ee-k'>south:</span><span class='ee-v'>44.4869</span></li><li><span class='ee-k'>west:</span><span class='ee-v'>-94.2041</span></li></ul></li></ul></li><li><label class='ee-shut'>19: Feature (Polygon, 4 properties)<input type='checkbox' class='ee-toggle'></label><ul><li><span class='ee-k'>type:</span><span class='ee-v'>Feature</span></li><li><span class='ee-k'>id:</span><span class='ee-v'>2_5</span></li><li><label class='ee-shut'>geometry: Polygon (5 vertices)<input type='checkbox' class='ee-toggle'></label><ul><li><span class='ee-k'>type:</span><span class='ee-v'>Polygon</span></li><li><label class='ee-shut'>coordinates: List (1 element)<input type='checkbox' class='ee-toggle'></label><ul><li><label class='ee-shut'>0: List (5 elements)<input type='checkbox' class='ee-toggle'></label><ul><li><label class='ee-shut'>0: [-89.61914999999999, 44.4869]<input type='checkbox' class='ee-toggle'></label><ul><li><span class='ee-k'>0:</span><span class='ee-v'>-89.61914999999999</span></li><li><span class='ee-k'>1:</span><span class='ee-v'>44.4869</span></li></ul></li><li><label class='ee-shut'>1: [-85.03419999999998, 44.4869]<input type='checkbox' class='ee-toggle'></label><ul><li><span class='ee-k'>0:</span><span class='ee-v'>-85.03419999999998</span></li><li><span class='ee-k'>1:</span><span class='ee-v'>44.4869</span></li></ul></li><li><label class='ee-shut'>2: [-85.03419999999998, 49.6858]<input type='checkbox' class='ee-toggle'></label><ul><li><span class='ee-k'>0:</span><span class='ee-v'>-85.03419999999998</span></li><li><span class='ee-k'>1:</span><span class='ee-v'>49.6858</span></li></ul></li><li><label class='ee-shut'>3: [-89.61914999999999, 49.6858]<input type='checkbox' class='ee-toggle'></label><ul><li><span class='ee-k'>0:</span><span class='ee-v'>-89.61914999999999</span></li><li><span class='ee-k'>1:</span><span class='ee-v'>49.6858</span></li></ul></li><li><label class='ee-shut'>4: [-89.61914999999999, 44.4869]<input type='checkbox' class='ee-toggle'></label><ul><li><span class='ee-k'>0:</span><span class='ee-v'>-89.61914999999999</span></li><li><span class='ee-k'>1:</span><span class='ee-v'>44.4869</span></li></ul></li></ul></li></ul></li><li><span class='ee-k'>geodesic:</span><span class='ee-v'>False</span></li></ul></li><li><label class='ee-shut'>properties: Object (4 properties)<input type='checkbox' class='ee-toggle'></label><ul><li><span class='ee-k'>east:</span><span class='ee-v'>-85.03419999999998</span></li><li><span class='ee-k'>north:</span><span class='ee-v'>49.6858</span></li><li><span class='ee-k'>south:</span><span class='ee-v'>44.4869</span></li><li><span class='ee-k'>west:</span><span class='ee-v'>-89.61914999999999</span></li></ul></li></ul></li><li><label class='ee-shut'>20: Feature (Polygon, 4 properties)<input type='checkbox' class='ee-toggle'></label><ul><li><span class='ee-k'>type:</span><span class='ee-v'>Feature</span></li><li><span class='ee-k'>id:</span><span class='ee-v'>2_6</span></li><li><label class='ee-shut'>geometry: Polygon (5 vertices)<input type='checkbox' class='ee-toggle'></label><ul><li><span class='ee-k'>type:</span><span class='ee-v'>Polygon</span></li><li><label class='ee-shut'>coordinates: List (1 element)<input type='checkbox' class='ee-toggle'></label><ul><li><label class='ee-shut'>0: List (5 elements)<input type='checkbox' class='ee-toggle'></label><ul><li><label class='ee-shut'>0: [-85.0342, 44.4869]<input type='checkbox' class='ee-toggle'></label><ul><li><span class='ee-k'>0:</span><span class='ee-v'>-85.0342</span></li><li><span class='ee-k'>1:</span><span class='ee-v'>44.4869</span></li></ul></li><li><label class='ee-shut'>1: [-80.44924999999999, 44.4869]<input type='checkbox' class='ee-toggle'></label><ul><li><span class='ee-k'>0:</span><span class='ee-v'>-80.44924999999999</span></li><li><span class='ee-k'>1:</span><span class='ee-v'>44.4869</span></li></ul></li><li><label class='ee-shut'>2: [-80.44924999999999, 49.6858]<input type='checkbox' class='ee-toggle'></label><ul><li><span class='ee-k'>0:</span><span class='ee-v'>-80.44924999999999</span></li><li><span class='ee-k'>1:</span><span class='ee-v'>49.6858</span></li></ul></li><li><label class='ee-shut'>3: [-85.0342, 49.6858]<input type='checkbox' class='ee-toggle'></label><ul><li><span class='ee-k'>0:</span><span class='ee-v'>-85.0342</span></li><li><span class='ee-k'>1:</span><span class='ee-v'>49.6858</span></li></ul></li><li><label class='ee-shut'>4: [-85.0342, 44.4869]<input type='checkbox' class='ee-toggle'></label><ul><li><span class='ee-k'>0:</span><span class='ee-v'>-85.0342</span></li><li><span class='ee-k'>1:</span><span class='ee-v'>44.4869</span></li></ul></li></ul></li></ul></li><li><span class='ee-k'>geodesic:</span><span class='ee-v'>False</span></li></ul></li><li><label class='ee-shut'>properties: Object (4 properties)<input type='checkbox' class='ee-toggle'></label><ul><li><span class='ee-k'>east:</span><span class='ee-v'>-80.44924999999999</span></li><li><span class='ee-k'>north:</span><span class='ee-v'>49.6858</span></li><li><span class='ee-k'>south:</span><span class='ee-v'>44.4869</span></li><li><span class='ee-k'>west:</span><span class='ee-v'>-85.0342</span></li></ul></li></ul></li><li><label class='ee-shut'>21: Feature (Polygon, 4 properties)<input type='checkbox' class='ee-toggle'></label><ul><li><span class='ee-k'>type:</span><span class='ee-v'>Feature</span></li><li><span class='ee-k'>id:</span><span class='ee-v'>3_0</span></li><li><label class='ee-shut'>geometry: Polygon (5 vertices)<input type='checkbox' class='ee-toggle'></label><ul><li><span class='ee-k'>type:</span><span class='ee-v'>Polygon</span></li><li><label class='ee-shut'>coordinates: List (1 element)<input type='checkbox' class='ee-toggle'></label><ul><li><label class='ee-shut'>0: List (5 elements)<input type='checkbox' class='ee-toggle'></label><ul><li><label class='ee-shut'>0: [-112.54390000000001, 49.6858]<input type='checkbox' class='ee-toggle'></label><ul><li><span class='ee-k'>0:</span><span class='ee-v'>-112.54390000000001</span></li><li><span class='ee-k'>1:</span><span class='ee-v'>49.6858</span></li></ul></li><li><label class='ee-shut'>1: [-107.95895, 49.6858]<input type='checkbox' class='ee-toggle'></label><ul><li><span class='ee-k'>0:</span><span class='ee-v'>-107.95895</span></li><li><span class='ee-k'>1:</span><span class='ee-v'>49.6858</span></li></ul></li><li><label class='ee-shut'>2: [-107.95895, 54.8847]<input type='checkbox' class='ee-toggle'></label><ul><li><span class='ee-k'>0:</span><span class='ee-v'>-107.95895</span></li><li><span class='ee-k'>1:</span><span class='ee-v'>54.8847</span></li></ul></li><li><label class='ee-shut'>3: [-112.54390000000001, 54.8847]<input type='checkbox' class='ee-toggle'></label><ul><li><span class='ee-k'>0:</span><span class='ee-v'>-112.54390000000001</span></li><li><span class='ee-k'>1:</span><span class='ee-v'>54.8847</span></li></ul></li><li><label class='ee-shut'>4: [-112.54390000000001, 49.6858]<input type='checkbox' class='ee-toggle'></label><ul><li><span class='ee-k'>0:</span><span class='ee-v'>-112.54390000000001</span></li><li><span class='ee-k'>1:</span><span class='ee-v'>49.6858</span></li></ul></li></ul></li></ul></li><li><span class='ee-k'>geodesic:</span><span class='ee-v'>False</span></li></ul></li><li><label class='ee-shut'>properties: Object (4 properties)<input type='checkbox' class='ee-toggle'></label><ul><li><span class='ee-k'>east:</span><span class='ee-v'>-107.95895</span></li><li><span class='ee-k'>north:</span><span class='ee-v'>54.8847</span></li><li><span class='ee-k'>south:</span><span class='ee-v'>49.6858</span></li><li><span class='ee-k'>west:</span><span class='ee-v'>-112.54390000000001</span></li></ul></li></ul></li><li><label class='ee-shut'>22: Feature (Polygon, 4 properties)<input type='checkbox' class='ee-toggle'></label><ul><li><span class='ee-k'>type:</span><span class='ee-v'>Feature</span></li><li><span class='ee-k'>id:</span><span class='ee-v'>3_1</span></li><li><label class='ee-shut'>geometry: Polygon (5 vertices)<input type='checkbox' class='ee-toggle'></label><ul><li><span class='ee-k'>type:</span><span class='ee-v'>Polygon</span></li><li><label class='ee-shut'>coordinates: List (1 element)<input type='checkbox' class='ee-toggle'></label><ul><li><label class='ee-shut'>0: List (5 elements)<input type='checkbox' class='ee-toggle'></label><ul><li><label class='ee-shut'>0: [-107.95895, 49.6858]<input type='checkbox' class='ee-toggle'></label><ul><li><span class='ee-k'>0:</span><span class='ee-v'>-107.95895</span></li><li><span class='ee-k'>1:</span><span class='ee-v'>49.6858</span></li></ul></li><li><label class='ee-shut'>1: [-103.374, 49.6858]<input type='checkbox' class='ee-toggle'></label><ul><li><span class='ee-k'>0:</span><span class='ee-v'>-103.374</span></li><li><span class='ee-k'>1:</span><span class='ee-v'>49.6858</span></li></ul></li><li><label class='ee-shut'>2: [-103.374, 54.8847]<input type='checkbox' class='ee-toggle'></label><ul><li><span class='ee-k'>0:</span><span class='ee-v'>-103.374</span></li><li><span class='ee-k'>1:</span><span class='ee-v'>54.8847</span></li></ul></li><li><label class='ee-shut'>3: [-107.95895, 54.8847]<input type='checkbox' class='ee-toggle'></label><ul><li><span class='ee-k'>0:</span><span class='ee-v'>-107.95895</span></li><li><span class='ee-k'>1:</span><span class='ee-v'>54.8847</span></li></ul></li><li><label class='ee-shut'>4: [-107.95895, 49.6858]<input type='checkbox' class='ee-toggle'></label><ul><li><span class='ee-k'>0:</span><span class='ee-v'>-107.95895</span></li><li><span class='ee-k'>1:</span><span class='ee-v'>49.6858</span></li></ul></li></ul></li></ul></li><li><span class='ee-k'>geodesic:</span><span class='ee-v'>False</span></li></ul></li><li><label class='ee-shut'>properties: Object (4 properties)<input type='checkbox' class='ee-toggle'></label><ul><li><span class='ee-k'>east:</span><span class='ee-v'>-103.374</span></li><li><span class='ee-k'>north:</span><span class='ee-v'>54.8847</span></li><li><span class='ee-k'>south:</span><span class='ee-v'>49.6858</span></li><li><span class='ee-k'>west:</span><span class='ee-v'>-107.95895</span></li></ul></li></ul></li><li><label class='ee-shut'>23: Feature (Polygon, 4 properties)<input type='checkbox' class='ee-toggle'></label><ul><li><span class='ee-k'>type:</span><span class='ee-v'>Feature</span></li><li><span class='ee-k'>id:</span><span class='ee-v'>3_2</span></li><li><label class='ee-shut'>geometry: Polygon (5 vertices)<input type='checkbox' class='ee-toggle'></label><ul><li><span class='ee-k'>type:</span><span class='ee-v'>Polygon</span></li><li><label class='ee-shut'>coordinates: List (1 element)<input type='checkbox' class='ee-toggle'></label><ul><li><label class='ee-shut'>0: List (5 elements)<input type='checkbox' class='ee-toggle'></label><ul><li><label class='ee-shut'>0: [-103.37400000000001, 49.6858]<input type='checkbox' class='ee-toggle'></label><ul><li><span class='ee-k'>0:</span><span class='ee-v'>-103.37400000000001</span></li><li><span class='ee-k'>1:</span><span class='ee-v'>49.6858</span></li></ul></li><li><label class='ee-shut'>1: [-98.78905, 49.6858]<input type='checkbox' class='ee-toggle'></label><ul><li><span class='ee-k'>0:</span><span class='ee-v'>-98.78905</span></li><li><span class='ee-k'>1:</span><span class='ee-v'>49.6858</span></li></ul></li><li><label class='ee-shut'>2: [-98.78905, 54.8847]<input type='checkbox' class='ee-toggle'></label><ul><li><span class='ee-k'>0:</span><span class='ee-v'>-98.78905</span></li><li><span class='ee-k'>1:</span><span class='ee-v'>54.8847</span></li></ul></li><li><label class='ee-shut'>3: [-103.37400000000001, 54.8847]<input type='checkbox' class='ee-toggle'></label><ul><li><span class='ee-k'>0:</span><span class='ee-v'>-103.37400000000001</span></li><li><span class='ee-k'>1:</span><span class='ee-v'>54.8847</span></li></ul></li><li><label class='ee-shut'>4: [-103.37400000000001, 49.6858]<input type='checkbox' class='ee-toggle'></label><ul><li><span class='ee-k'>0:</span><span class='ee-v'>-103.37400000000001</span></li><li><span class='ee-k'>1:</span><span class='ee-v'>49.6858</span></li></ul></li></ul></li></ul></li><li><span class='ee-k'>geodesic:</span><span class='ee-v'>False</span></li></ul></li><li><label class='ee-shut'>properties: Object (4 properties)<input type='checkbox' class='ee-toggle'></label><ul><li><span class='ee-k'>east:</span><span class='ee-v'>-98.78905</span></li><li><span class='ee-k'>north:</span><span class='ee-v'>54.8847</span></li><li><span class='ee-k'>south:</span><span class='ee-v'>49.6858</span></li><li><span class='ee-k'>west:</span><span class='ee-v'>-103.37400000000001</span></li></ul></li></ul></li><li><label class='ee-shut'>24: Feature (Polygon, 4 properties)<input type='checkbox' class='ee-toggle'></label><ul><li><span class='ee-k'>type:</span><span class='ee-v'>Feature</span></li><li><span class='ee-k'>id:</span><span class='ee-v'>3_3</span></li><li><label class='ee-shut'>geometry: Polygon (5 vertices)<input type='checkbox' class='ee-toggle'></label><ul><li><span class='ee-k'>type:</span><span class='ee-v'>Polygon</span></li><li><label class='ee-shut'>coordinates: List (1 element)<input type='checkbox' class='ee-toggle'></label><ul><li><label class='ee-shut'>0: List (5 elements)<input type='checkbox' class='ee-toggle'></label><ul><li><label class='ee-shut'>0: [-98.78905, 49.6858]<input type='checkbox' class='ee-toggle'></label><ul><li><span class='ee-k'>0:</span><span class='ee-v'>-98.78905</span></li><li><span class='ee-k'>1:</span><span class='ee-v'>49.6858</span></li></ul></li><li><label class='ee-shut'>1: [-94.2041, 49.6858]<input type='checkbox' class='ee-toggle'></label><ul><li><span class='ee-k'>0:</span><span class='ee-v'>-94.2041</span></li><li><span class='ee-k'>1:</span><span class='ee-v'>49.6858</span></li></ul></li><li><label class='ee-shut'>2: [-94.2041, 54.8847]<input type='checkbox' class='ee-toggle'></label><ul><li><span class='ee-k'>0:</span><span class='ee-v'>-94.2041</span></li><li><span class='ee-k'>1:</span><span class='ee-v'>54.8847</span></li></ul></li><li><label class='ee-shut'>3: [-98.78905, 54.8847]<input type='checkbox' class='ee-toggle'></label><ul><li><span class='ee-k'>0:</span><span class='ee-v'>-98.78905</span></li><li><span class='ee-k'>1:</span><span class='ee-v'>54.8847</span></li></ul></li><li><label class='ee-shut'>4: [-98.78905, 49.6858]<input type='checkbox' class='ee-toggle'></label><ul><li><span class='ee-k'>0:</span><span class='ee-v'>-98.78905</span></li><li><span class='ee-k'>1:</span><span class='ee-v'>49.6858</span></li></ul></li></ul></li></ul></li><li><span class='ee-k'>geodesic:</span><span class='ee-v'>False</span></li></ul></li><li><label class='ee-shut'>properties: Object (4 properties)<input type='checkbox' class='ee-toggle'></label><ul><li><span class='ee-k'>east:</span><span class='ee-v'>-94.2041</span></li><li><span class='ee-k'>north:</span><span class='ee-v'>54.8847</span></li><li><span class='ee-k'>south:</span><span class='ee-v'>49.6858</span></li><li><span class='ee-k'>west:</span><span class='ee-v'>-98.78905</span></li></ul></li></ul></li><li><label class='ee-shut'>25: Feature (Polygon, 4 properties)<input type='checkbox' class='ee-toggle'></label><ul><li><span class='ee-k'>type:</span><span class='ee-v'>Feature</span></li><li><span class='ee-k'>id:</span><span class='ee-v'>3_4</span></li><li><label class='ee-shut'>geometry: Polygon (5 vertices)<input type='checkbox' class='ee-toggle'></label><ul><li><span class='ee-k'>type:</span><span class='ee-v'>Polygon</span></li><li><label class='ee-shut'>coordinates: List (1 element)<input type='checkbox' class='ee-toggle'></label><ul><li><label class='ee-shut'>0: List (5 elements)<input type='checkbox' class='ee-toggle'></label><ul><li><label class='ee-shut'>0: [-94.2041, 49.6858]<input type='checkbox' class='ee-toggle'></label><ul><li><span class='ee-k'>0:</span><span class='ee-v'>-94.2041</span></li><li><span class='ee-k'>1:</span><span class='ee-v'>49.6858</span></li></ul></li><li><label class='ee-shut'>1: [-89.61914999999999, 49.6858]<input type='checkbox' class='ee-toggle'></label><ul><li><span class='ee-k'>0:</span><span class='ee-v'>-89.61914999999999</span></li><li><span class='ee-k'>1:</span><span class='ee-v'>49.6858</span></li></ul></li><li><label class='ee-shut'>2: [-89.61914999999999, 54.8847]<input type='checkbox' class='ee-toggle'></label><ul><li><span class='ee-k'>0:</span><span class='ee-v'>-89.61914999999999</span></li><li><span class='ee-k'>1:</span><span class='ee-v'>54.8847</span></li></ul></li><li><label class='ee-shut'>3: [-94.2041, 54.8847]<input type='checkbox' class='ee-toggle'></label><ul><li><span class='ee-k'>0:</span><span class='ee-v'>-94.2041</span></li><li><span class='ee-k'>1:</span><span class='ee-v'>54.8847</span></li></ul></li><li><label class='ee-shut'>4: [-94.2041, 49.6858]<input type='checkbox' class='ee-toggle'></label><ul><li><span class='ee-k'>0:</span><span class='ee-v'>-94.2041</span></li><li><span class='ee-k'>1:</span><span class='ee-v'>49.6858</span></li></ul></li></ul></li></ul></li><li><span class='ee-k'>geodesic:</span><span class='ee-v'>False</span></li></ul></li><li><label class='ee-shut'>properties: Object (4 properties)<input type='checkbox' class='ee-toggle'></label><ul><li><span class='ee-k'>east:</span><span class='ee-v'>-89.61914999999999</span></li><li><span class='ee-k'>north:</span><span class='ee-v'>54.8847</span></li><li><span class='ee-k'>south:</span><span class='ee-v'>49.6858</span></li><li><span class='ee-k'>west:</span><span class='ee-v'>-94.2041</span></li></ul></li></ul></li><li><label class='ee-shut'>26: Feature (Polygon, 4 properties)<input type='checkbox' class='ee-toggle'></label><ul><li><span class='ee-k'>type:</span><span class='ee-v'>Feature</span></li><li><span class='ee-k'>id:</span><span class='ee-v'>3_5</span></li><li><label class='ee-shut'>geometry: Polygon (5 vertices)<input type='checkbox' class='ee-toggle'></label><ul><li><span class='ee-k'>type:</span><span class='ee-v'>Polygon</span></li><li><label class='ee-shut'>coordinates: List (1 element)<input type='checkbox' class='ee-toggle'></label><ul><li><label class='ee-shut'>0: List (5 elements)<input type='checkbox' class='ee-toggle'></label><ul><li><label class='ee-shut'>0: [-89.61914999999999, 49.6858]<input type='checkbox' class='ee-toggle'></label><ul><li><span class='ee-k'>0:</span><span class='ee-v'>-89.61914999999999</span></li><li><span class='ee-k'>1:</span><span class='ee-v'>49.6858</span></li></ul></li><li><label class='ee-shut'>1: [-85.03419999999998, 49.6858]<input type='checkbox' class='ee-toggle'></label><ul><li><span class='ee-k'>0:</span><span class='ee-v'>-85.03419999999998</span></li><li><span class='ee-k'>1:</span><span class='ee-v'>49.6858</span></li></ul></li><li><label class='ee-shut'>2: [-85.03419999999998, 54.8847]<input type='checkbox' class='ee-toggle'></label><ul><li><span class='ee-k'>0:</span><span class='ee-v'>-85.03419999999998</span></li><li><span class='ee-k'>1:</span><span class='ee-v'>54.8847</span></li></ul></li><li><label class='ee-shut'>3: [-89.61914999999999, 54.8847]<input type='checkbox' class='ee-toggle'></label><ul><li><span class='ee-k'>0:</span><span class='ee-v'>-89.61914999999999</span></li><li><span class='ee-k'>1:</span><span class='ee-v'>54.8847</span></li></ul></li><li><label class='ee-shut'>4: [-89.61914999999999, 49.6858]<input type='checkbox' class='ee-toggle'></label><ul><li><span class='ee-k'>0:</span><span class='ee-v'>-89.61914999999999</span></li><li><span class='ee-k'>1:</span><span class='ee-v'>49.6858</span></li></ul></li></ul></li></ul></li><li><span class='ee-k'>geodesic:</span><span class='ee-v'>False</span></li></ul></li><li><label class='ee-shut'>properties: Object (4 properties)<input type='checkbox' class='ee-toggle'></label><ul><li><span class='ee-k'>east:</span><span class='ee-v'>-85.03419999999998</span></li><li><span class='ee-k'>north:</span><span class='ee-v'>54.8847</span></li><li><span class='ee-k'>south:</span><span class='ee-v'>49.6858</span></li><li><span class='ee-k'>west:</span><span class='ee-v'>-89.61914999999999</span></li></ul></li></ul></li><li><label class='ee-shut'>27: Feature (Polygon, 4 properties)<input type='checkbox' class='ee-toggle'></label><ul><li><span class='ee-k'>type:</span><span class='ee-v'>Feature</span></li><li><span class='ee-k'>id:</span><span class='ee-v'>3_6</span></li><li><label class='ee-shut'>geometry: Polygon (5 vertices)<input type='checkbox' class='ee-toggle'></label><ul><li><span class='ee-k'>type:</span><span class='ee-v'>Polygon</span></li><li><label class='ee-shut'>coordinates: List (1 element)<input type='checkbox' class='ee-toggle'></label><ul><li><label class='ee-shut'>0: List (5 elements)<input type='checkbox' class='ee-toggle'></label><ul><li><label class='ee-shut'>0: [-85.0342, 49.6858]<input type='checkbox' class='ee-toggle'></label><ul><li><span class='ee-k'>0:</span><span class='ee-v'>-85.0342</span></li><li><span class='ee-k'>1:</span><span class='ee-v'>49.6858</span></li></ul></li><li><label class='ee-shut'>1: [-80.44924999999999, 49.6858]<input type='checkbox' class='ee-toggle'></label><ul><li><span class='ee-k'>0:</span><span class='ee-v'>-80.44924999999999</span></li><li><span class='ee-k'>1:</span><span class='ee-v'>49.6858</span></li></ul></li><li><label class='ee-shut'>2: [-80.44924999999999, 54.8847]<input type='checkbox' class='ee-toggle'></label><ul><li><span class='ee-k'>0:</span><span class='ee-v'>-80.44924999999999</span></li><li><span class='ee-k'>1:</span><span class='ee-v'>54.8847</span></li></ul></li><li><label class='ee-shut'>3: [-85.0342, 54.8847]<input type='checkbox' class='ee-toggle'></label><ul><li><span class='ee-k'>0:</span><span class='ee-v'>-85.0342</span></li><li><span class='ee-k'>1:</span><span class='ee-v'>54.8847</span></li></ul></li><li><label class='ee-shut'>4: [-85.0342, 49.6858]<input type='checkbox' class='ee-toggle'></label><ul><li><span class='ee-k'>0:</span><span class='ee-v'>-85.0342</span></li><li><span class='ee-k'>1:</span><span class='ee-v'>49.6858</span></li></ul></li></ul></li></ul></li><li><span class='ee-k'>geodesic:</span><span class='ee-v'>False</span></li></ul></li><li><label class='ee-shut'>properties: Object (4 properties)<input type='checkbox' class='ee-toggle'></label><ul><li><span class='ee-k'>east:</span><span class='ee-v'>-80.44924999999999</span></li><li><span class='ee-k'>north:</span><span class='ee-v'>54.8847</span></li><li><span class='ee-k'>south:</span><span class='ee-v'>49.6858</span></li><li><span class='ee-k'>west:</span><span class='ee-v'>-85.0342</span></li></ul></li></ul></li></ul></li></ul></li></ul></div><script>function toggleHeader() {\n",
       "    const parent = this.parentElement;\n",
       "    parent.className = parent.className === \"ee-open\" ? \"ee-shut\" : \"ee-open\";\n",
       "}\n",
       "\n",
       "for (let c of document.getElementsByClassName(\"ee-toggle\")) {\n",
       "    c.onclick = toggleHeader;\n",
       "}</script></div>"
      ],
      "text/plain": [
       "<ee.featurecollection.FeatureCollection at 0x122279f10>"
      ]
     },
     "execution_count": 36,
     "metadata": {},
     "output_type": "execute_result"
    }
   ],
   "source": [
    "fishnet = geemap.fishnet(feat, rows=3, cols=6, delta=4)\n",
    "fishnet"
   ]
  },
  {
   "cell_type": "code",
   "execution_count": 37,
   "id": "55d64888",
   "metadata": {},
   "outputs": [
    {
     "data": {
      "text/html": [
       "\n",
       "            <style>\n",
       "                .geemap-dark {\n",
       "                    --jp-widgets-color: white;\n",
       "                    --jp-widgets-label-color: white;\n",
       "                    --jp-ui-font-color1: white;\n",
       "                    --jp-layout-color2: #454545;\n",
       "                    background-color: #383838;\n",
       "                }\n",
       "                    \n",
       "                .geemap-dark .jupyter-button {\n",
       "                    --jp-layout-color3: #383838;\n",
       "                }\n",
       "                \n",
       "                .geemap-colab {\n",
       "                    background-color: var(--colab-primary-surface-color, white);\n",
       "                }\n",
       "                    \n",
       "                .geemap-colab .jupyter-button {\n",
       "                    --jp-layout-color3: var(--colab-primary-surface-color, white);\n",
       "                }\n",
       "            </style>\n",
       "            "
      ],
      "text/plain": [
       "<IPython.core.display.HTML object>"
      ]
     },
     "metadata": {},
     "output_type": "display_data"
    }
   ],
   "source": [
    "fishnet_viz = {\n",
    "    'color': 'ffff0000',\n",
    "    'width': 1,\n",
    "    'lineType': 'solid',\n",
    "    'fillColor': '00000000',\n",
    "}"
   ]
  },
  {
   "cell_type": "code",
   "execution_count": 38,
   "id": "dba602a2",
   "metadata": {},
   "outputs": [
    {
     "data": {
      "text/html": [
       "\n",
       "            <style>\n",
       "                .geemap-dark {\n",
       "                    --jp-widgets-color: white;\n",
       "                    --jp-widgets-label-color: white;\n",
       "                    --jp-ui-font-color1: white;\n",
       "                    --jp-layout-color2: #454545;\n",
       "                    background-color: #383838;\n",
       "                }\n",
       "                    \n",
       "                .geemap-dark .jupyter-button {\n",
       "                    --jp-layout-color3: #383838;\n",
       "                }\n",
       "                \n",
       "                .geemap-colab {\n",
       "                    background-color: var(--colab-primary-surface-color, white);\n",
       "                }\n",
       "                    \n",
       "                .geemap-colab .jupyter-button {\n",
       "                    --jp-layout-color3: var(--colab-primary-surface-color, white);\n",
       "                }\n",
       "            </style>\n",
       "            "
      ],
      "text/plain": [
       "<IPython.core.display.HTML object>"
      ]
     },
     "metadata": {},
     "output_type": "display_data"
    },
    {
     "data": {
      "application/vnd.jupyter.widget-view+json": {
       "model_id": "0f8c670a5bd34d789ecc96bfdd0f8bb0",
       "version_major": 2,
       "version_minor": 0
      },
      "text/plain": [
       "Map(center=[0, 0], controls=(WidgetControl(options=['position', 'transparent_bg'], widget=SearchDataGUI(childr…"
      ]
     },
     "execution_count": 38,
     "metadata": {},
     "output_type": "execute_result"
    }
   ],
   "source": [
    "m = geemap.Map()\n",
    "m.centerObject(feat)\n",
    "m.addLayer(image, landsat_viz, \"Landsat 5-year composite\")\n",
    "m.addLayer(fishnet, fishnet_viz, \"Fishnet\")\n",
    "\n",
    "m"
   ]
  },
  {
   "cell_type": "markdown",
   "metadata": {},
   "source": [
    "## Question 2\n",
    "\n",
    "Create annual cloud-free Landsat imagery for the years 2017-2023 for a US county of your choice. Download the images to your computer. \n",
    "\n",
    "![](https://i.imgur.com/MN2UXHx.png)"
   ]
  },
  {
   "cell_type": "code",
   "execution_count": null,
   "metadata": {},
   "outputs": [],
   "source": [
    "# Add your code here."
   ]
  },
  {
   "cell_type": "markdown",
   "metadata": {},
   "source": [
    "## Question 3\n",
    "\n",
    "Create annual cloud-free Sentinel-2 imagery for the years 2017-2023 for a US county of your choice. Download the images to your computer. You can download a coarse resolution image to speed up the download process. Narrow down the date range (e.g., summer months) to reduce the number of images, which can avoid memory errors.\n",
    "\n",
    "![](https://i.imgur.com/r5RQlEJ.png)"
   ]
  },
  {
   "cell_type": "code",
   "execution_count": null,
   "metadata": {},
   "outputs": [],
   "source": [
    "# Add your code here."
   ]
  },
  {
   "cell_type": "markdown",
   "metadata": {},
   "source": [
    "## Question 4\n",
    "\n",
    "Create annual cloud-free NAIP imagery for the years 2010-2023 for a US county of your choice. Download the images to your computer. You can download a coarse resolution image to speed up the download process. \n",
    "\n",
    "![](https://i.imgur.com/h66FC8h.png)"
   ]
  },
  {
   "cell_type": "code",
   "execution_count": null,
   "metadata": {},
   "outputs": [],
   "source": [
    "# Add your code here."
   ]
  },
  {
   "cell_type": "markdown",
   "metadata": {},
   "source": [
    "## Question 5\n",
    "\n",
    "Download a US county of your choice and save it as a shapefile or GeoJSON file. \n",
    "\n",
    "![](https://i.imgur.com/PuK2Vp3.png)"
   ]
  },
  {
   "cell_type": "code",
   "execution_count": null,
   "metadata": {},
   "outputs": [],
   "source": [
    "# Add your code here."
   ]
  }
 ],
 "metadata": {
  "kernelspec": {
   "display_name": "Python 3",
   "language": "python",
   "name": "python3"
  },
  "language_info": {
   "codemirror_mode": {
    "name": "ipython",
    "version": 3
   },
   "file_extension": ".py",
   "mimetype": "text/x-python",
   "name": "python",
   "nbconvert_exporter": "python",
   "pygments_lexer": "ipython3",
   "version": "3.11.5"
  }
 },
 "nbformat": 4,
 "nbformat_minor": 5
}
